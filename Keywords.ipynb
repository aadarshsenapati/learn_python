{
 "cells": [
  {
   "cell_type": "markdown",
   "id": "eb29b493-6e77-4f35-b467-3475fa388524",
   "metadata": {},
   "source": [
    "# 1) Keywords and Identifiers"
   ]
  },
  {
   "cell_type": "code",
   "execution_count": 4,
   "id": "23605a73-bdc3-43ba-8346-f90a751018ae",
   "metadata": {},
   "outputs": [
    {
     "name": "stdout",
     "output_type": "stream",
     "text": [
      "Number of Keywords in Python:  35\n",
      "The keywords are:  False None True and as assert async await break class continue def del elif else except finally for from global if import in is lambda nonlocal not or pass raise return try while with yield\n"
     ]
    }
   ],
   "source": [
    "import keyword\n",
    "print(\"Number of Keywords in Python: \", len(keyword.kwlist))\n",
    "print(\"The keywords are: \",*keyword.kwlist )"
   ]
  },
  {
   "cell_type": "markdown",
   "id": "b34b2a4d-0c34-40b2-adb8-e39afb55efa3",
   "metadata": {},
   "source": [
    "#### **False** is a boolean operator<br>\n",
    "a = False\n",
    "#### **True** is a boolean operator<br>\n",
    "a = True\n",
    "#### **None** represents the absence of a value\n",
    "a = None"
   ]
  },
  {
   "cell_type": "markdown",
   "id": "1acd07b3-89ce-47de-98fa-4ca2ec0ba9a6",
   "metadata": {},
   "source": [
    "#### **and** (logical and)"
   ]
  },
  {
   "cell_type": "code",
   "execution_count": 9,
   "id": "ab164b9d-2211-4cd8-aac1-f2f2e64455fd",
   "metadata": {},
   "outputs": [
    {
     "name": "stdout",
     "output_type": "stream",
     "text": [
      "True\n"
     ]
    }
   ],
   "source": [
    "x = 5\n",
    "print(x > 3 and x < 10)"
   ]
  },
  {
   "cell_type": "markdown",
   "id": "fac636d1-6b9f-4ddb-9952-fcc7f9509aee",
   "metadata": {},
   "source": [
    "#### **or** (logical or)"
   ]
  },
  {
   "cell_type": "code",
   "execution_count": 10,
   "id": "fc2de910-0642-4b0c-82eb-803a0c36000d",
   "metadata": {},
   "outputs": [
    {
     "name": "stdout",
     "output_type": "stream",
     "text": [
      "True\n"
     ]
    }
   ],
   "source": [
    "x = 5\n",
    "print(x > 3 or x < 10)"
   ]
  },
  {
   "cell_type": "markdown",
   "id": "72a84654-41b9-4964-8d9f-aad357efe8a1",
   "metadata": {},
   "source": [
    "#### **not** (logical negation)\n"
   ]
  },
  {
   "cell_type": "code",
   "execution_count": 50,
   "id": "22a012d2-2996-4e94-9bfd-a3d9f107ad17",
   "metadata": {},
   "outputs": [
    {
     "name": "stdout",
     "output_type": "stream",
     "text": [
      "False\n"
     ]
    }
   ],
   "source": [
    "x = True\n",
    "print(not x)"
   ]
  },
  {
   "cell_type": "markdown",
   "id": "c14be52d-7bd6-41e9-a63b-7fc89f9bf129",
   "metadata": {},
   "source": [
    "#### **as** is used to create alias"
   ]
  },
  {
   "cell_type": "code",
   "execution_count": 12,
   "id": "e376c0ca-2b5a-4f1f-85ce-f3e86b239e39",
   "metadata": {},
   "outputs": [],
   "source": [
    "import pandas as pd"
   ]
  },
  {
   "cell_type": "markdown",
   "id": "eeb9e0df-974c-46e9-b6ee-cd481efee8fe",
   "metadata": {},
   "source": [
    "#### **assert** in python is used to debug code<br>\n",
    "If returned value is true then no issue else error will be generated"
   ]
  },
  {
   "cell_type": "code",
   "execution_count": 13,
   "id": "7acfd81e-2077-4627-b5e1-7f0209fb0f4f",
   "metadata": {},
   "outputs": [
    {
     "name": "stdout",
     "output_type": "stream",
     "text": [
      "True value didnt pass any error\n"
     ]
    },
    {
     "ename": "AssertionError",
     "evalue": "",
     "output_type": "error",
     "traceback": [
      "\u001b[1;31m---------------------------------------------------------------------------\u001b[0m",
      "\u001b[1;31mAssertionError\u001b[0m                            Traceback (most recent call last)",
      "Cell \u001b[1;32mIn[13], line 4\u001b[0m\n\u001b[0;32m      2\u001b[0m \u001b[38;5;28;01massert\u001b[39;00m x \u001b[38;5;241m==\u001b[39m \u001b[38;5;124m\"\u001b[39m\u001b[38;5;124mhello\u001b[39m\u001b[38;5;124m\"\u001b[39m\n\u001b[0;32m      3\u001b[0m \u001b[38;5;28mprint\u001b[39m(\u001b[38;5;124m\"\u001b[39m\u001b[38;5;124mTrue value didnt pass any error\u001b[39m\u001b[38;5;124m\"\u001b[39m)\n\u001b[1;32m----> 4\u001b[0m \u001b[38;5;28;01massert\u001b[39;00m x \u001b[38;5;241m==\u001b[39m \u001b[38;5;124m\"\u001b[39m\u001b[38;5;124mworld\u001b[39m\u001b[38;5;124m\"\u001b[39m\n",
      "\u001b[1;31mAssertionError\u001b[0m: "
     ]
    }
   ],
   "source": [
    "x = \"hello\"\n",
    "assert x == \"hello\"\n",
    "print(\"True value didnt pass any error\")\n",
    "assert x == \"world\"\n"
   ]
  },
  {
   "cell_type": "markdown",
   "id": "951e4aa9-9c07-40fb-a02c-042f9a439e6d",
   "metadata": {},
   "source": [
    "#### **async** keyword in Python is used to handle multiple tasks at once without waiting for each task to finish before starting the next <br>\n",
    "#### **await** keyword is used to pause the execution of an asynchronous function"
   ]
  },
  {
   "cell_type": "code",
   "execution_count": 17,
   "id": "4f462f6c-de87-40e0-95ba-b6054fb4ea54",
   "metadata": {},
   "outputs": [
    {
     "name": "stdout",
     "output_type": "stream",
     "text": [
      "Hello\n",
      "World\n"
     ]
    }
   ],
   "source": [
    "import asyncio\n",
    "\n",
    "async def say_hello():\n",
    "    print(\"Hello\")\n",
    "    await asyncio.sleep(1)  # Pause for 1 second\n",
    "    print(\"World\")\n",
    "\n",
    "await say_hello()\n"
   ]
  },
  {
   "cell_type": "markdown",
   "id": "50ac9665-864b-4399-871c-63fbeed21bd6",
   "metadata": {},
   "source": [
    "#### **break** keyword is used to terminate the current loop prematurely"
   ]
  },
  {
   "cell_type": "code",
   "execution_count": 21,
   "id": "e6fcf804-2a01-4265-9468-a703e3e7f79b",
   "metadata": {},
   "outputs": [
    {
     "name": "stdout",
     "output_type": "stream",
     "text": [
      "5\n"
     ]
    }
   ],
   "source": [
    "i=0\n",
    "for i in range(1,10):\n",
    "    if(i%5==0):\n",
    "        print(i)\n",
    "        break"
   ]
  },
  {
   "cell_type": "markdown",
   "id": "809e1852-4e14-4b91-bddf-ca73551654ee",
   "metadata": {},
   "source": [
    "#### **class** keyword is used to create blueprint for creating objects"
   ]
  },
  {
   "cell_type": "code",
   "execution_count": 22,
   "id": "9fd108ed-e95e-4129-b96f-2c039871ff8d",
   "metadata": {},
   "outputs": [
    {
     "name": "stdout",
     "output_type": "stream",
     "text": [
      "Hello World\n"
     ]
    }
   ],
   "source": [
    "class hello:\n",
    "    print(\"Hello World\")"
   ]
  },
  {
   "cell_type": "markdown",
   "id": "0d208076-d61f-492d-b9a1-067c3392f26f",
   "metadata": {},
   "source": [
    "#### **continue** keyword is used to skip the iteration"
   ]
  },
  {
   "cell_type": "code",
   "execution_count": 25,
   "id": "e9435e4f-b28d-4d12-b759-9be1d5d5cefa",
   "metadata": {},
   "outputs": [
    {
     "name": "stdout",
     "output_type": "stream",
     "text": [
      "1 - 2 - 3 - 4 - 6 - 7 - 8 - 9 - "
     ]
    }
   ],
   "source": [
    "for i in range(1,10):\n",
    "  if i == 5:\n",
    "    continue\n",
    "  print(i, end=\" - \")"
   ]
  },
  {
   "cell_type": "markdown",
   "id": "7e38f3a9-e71d-4350-82e2-7b23124f1852",
   "metadata": {},
   "source": [
    "#### **def** keyword is used to define function"
   ]
  },
  {
   "cell_type": "code",
   "execution_count": 26,
   "id": "895d0f4b-34d8-4da0-844d-4ec468eea880",
   "metadata": {},
   "outputs": [
    {
     "name": "stdout",
     "output_type": "stream",
     "text": [
      "Hello World\n"
     ]
    }
   ],
   "source": [
    "def fun():\n",
    "    print(\"Hello World\")\n",
    "fun()"
   ]
  },
  {
   "cell_type": "markdown",
   "id": "7b7ff357-7627-4687-96f1-68ecca2d1a7f",
   "metadata": {},
   "source": [
    "#### **del** keyword is used to define function"
   ]
  },
  {
   "cell_type": "code",
   "execution_count": 30,
   "id": "33fb59f0-5b0c-419b-a37c-913e8fa6aae6",
   "metadata": {},
   "outputs": [
    {
     "name": "stdout",
     "output_type": "stream",
     "text": [
      "Print befor del:  <class '__main__.myclass'>\n",
      "After del: \n"
     ]
    },
    {
     "ename": "NameError",
     "evalue": "name 'myclass' is not defined",
     "output_type": "error",
     "traceback": [
      "\u001b[1;31m---------------------------------------------------------------------------\u001b[0m",
      "\u001b[1;31mNameError\u001b[0m                                 Traceback (most recent call last)",
      "Cell \u001b[1;32mIn[30], line 9\u001b[0m\n\u001b[0;32m      6\u001b[0m \u001b[38;5;28;01mdel\u001b[39;00m myclass\n\u001b[0;32m      8\u001b[0m \u001b[38;5;28mprint\u001b[39m(\u001b[38;5;124m\"\u001b[39m\u001b[38;5;124mAfter del: \u001b[39m\u001b[38;5;124m\"\u001b[39m)\n\u001b[1;32m----> 9\u001b[0m \u001b[38;5;28mprint\u001b[39m(\u001b[43mmyclass\u001b[49m)\n",
      "\u001b[1;31mNameError\u001b[0m: name 'myclass' is not defined"
     ]
    }
   ],
   "source": [
    "class myclass:\n",
    "  a = \"Hello World\"\n",
    "\n",
    "print(\"Print befor del: \",myclass)\n",
    "\n",
    "del myclass\n",
    "\n",
    "print(\"After del: \")\n",
    "print(myclass)"
   ]
  },
  {
   "cell_type": "markdown",
   "id": "91cd353b-1f43-4875-b8e4-4b85cc39f7ed",
   "metadata": {},
   "source": [
    "#### **if** keyword is used for conditional statements<br>\n",
    "#### **else** keyword is used for conditional statements to be executed if the 'if' statement is false<br>\n",
    "#### **elif** keyword is used for checking another condition if 'if' statement is false <br>\n"
   ]
  },
  {
   "cell_type": "code",
   "execution_count": 33,
   "id": "c257df13-1716-4937-8fd8-9455dcd58107",
   "metadata": {},
   "outputs": [
    {
     "name": "stdout",
     "output_type": "stream",
     "text": [
      "The number is positive.\n",
      "The number is negative.\n",
      "The number is zero.\n"
     ]
    }
   ],
   "source": [
    "def num(a):\n",
    "    if a > 0:\n",
    "        print(\"The number is positive.\")\n",
    "    elif a < 0:\n",
    "        print(\"The number is negative.\")\n",
    "    else:\n",
    "        print(\"The number is zero.\")\n",
    "\n",
    "num(2)\n",
    "num(-1)\n",
    "num(0)"
   ]
  },
  {
   "cell_type": "markdown",
   "id": "9e8536c2-d373-4d9f-9c86-34cd51dd105e",
   "metadata": {},
   "source": [
    "#### **try** keyword block lets you test a block of code for errors<br>\n",
    "#### **except** keyword block lets you handle the error<br>\n",
    "#### **finally** keyword lets you execute code, regardless of the result of the try- and except blocks.\n"
   ]
  },
  {
   "cell_type": "code",
   "execution_count": 37,
   "id": "d382e97d-c074-438e-924f-5634280b88f6",
   "metadata": {},
   "outputs": [
    {
     "name": "stdout",
     "output_type": "stream",
     "text": [
      "Hello World\n",
      "The 'try except' is finished\n"
     ]
    }
   ],
   "source": [
    "try:\n",
    "  print(\"Hello World\")\n",
    "except:\n",
    "  print(\"Something went wrong\")\n",
    "finally:\n",
    "  print(\"The 'try except' is finished\")"
   ]
  },
  {
   "cell_type": "markdown",
   "id": "2c2ddb23-3297-4f8d-bb9e-3bfb3fa5d546",
   "metadata": {},
   "source": [
    "#### **for** keyword is used for iterating over a sequence"
   ]
  },
  {
   "cell_type": "code",
   "execution_count": 38,
   "id": "11435362-e077-4e9c-acf1-4b204362ce30",
   "metadata": {},
   "outputs": [
    {
     "name": "stdout",
     "output_type": "stream",
     "text": [
      "0 1 2 3 4 5 6 7 8 9 "
     ]
    }
   ],
   "source": [
    "for i in range(0,10):\n",
    "    print(i, end=\" \")"
   ]
  },
  {
   "cell_type": "markdown",
   "id": "625c0c70-f62c-4d5d-a882-f81322563d0f",
   "metadata": {},
   "source": [
    "#### **from** keyword is used to import only a specified section from a module\n",
    "#### **import** keyword is used to bring external modules or packages"
   ]
  },
  {
   "cell_type": "code",
   "execution_count": 39,
   "id": "d584cdf6-e59f-4a03-97cd-c4d2c084ba02",
   "metadata": {},
   "outputs": [],
   "source": [
    "from datetime import time"
   ]
  },
  {
   "cell_type": "markdown",
   "id": "9b7f3cb5-70e1-4d8b-95a5-e550cb698767",
   "metadata": {},
   "source": [
    "#### **global** keyword allows a user to modify a variable outside the current scope"
   ]
  },
  {
   "cell_type": "code",
   "execution_count": 45,
   "id": "63355522-cad0-441f-9fc6-d6fea1753bf8",
   "metadata": {},
   "outputs": [
    {
     "name": "stdout",
     "output_type": "stream",
     "text": [
      "2\n"
     ]
    }
   ],
   "source": [
    "global x\n",
    "x=2\n",
    "print(x)"
   ]
  },
  {
   "cell_type": "markdown",
   "id": "8ceb1c78-3de2-472e-97d4-25ab201e12fa",
   "metadata": {},
   "source": [
    "#### **in** keyword is used to check if a value is present in a sequence"
   ]
  },
  {
   "cell_type": "code",
   "execution_count": 46,
   "id": "c5d68c30-a0aa-4694-9683-11e248d4f3d5",
   "metadata": {},
   "outputs": [
    {
     "name": "stdout",
     "output_type": "stream",
     "text": [
      "yes\n"
     ]
    }
   ],
   "source": [
    "list = [\"hello\", \"world\"]\n",
    "\n",
    "if \"hello\" in list:\n",
    "  print(\"yes\")"
   ]
  },
  {
   "cell_type": "markdown",
   "id": "55251ff1-207e-42aa-bb7d-52165bc2f939",
   "metadata": {},
   "source": [
    "#### **in** keyword is used to check if two variables refer to the same object in memory"
   ]
  },
  {
   "cell_type": "code",
   "execution_count": 48,
   "id": "29ef3721-7510-4c92-9e54-aa381be143fe",
   "metadata": {},
   "outputs": [
    {
     "name": "stdout",
     "output_type": "stream",
     "text": [
      "True\n",
      "True\n",
      "True\n",
      "False\n"
     ]
    }
   ],
   "source": [
    "x = [1, 2, 3]\n",
    "y = x\n",
    "z = [1, 2, 3]\n",
    "print(x == y) \n",
    "print(x is y) \n",
    "print(x == z) \n",
    "print(x is z) "
   ]
  },
  {
   "cell_type": "markdown",
   "id": "67d4a8dd-dfc7-485a-b8eb-837da3c7dbaa",
   "metadata": {},
   "source": [
    "#### **lamda** keyword is used to create small anonymous functions"
   ]
  },
  {
   "cell_type": "code",
   "execution_count": 49,
   "id": "55382b42-9dc4-4f4c-923b-86bbb4675844",
   "metadata": {},
   "outputs": [
    {
     "name": "stdout",
     "output_type": "stream",
     "text": [
      "8\n"
     ]
    }
   ],
   "source": [
    "add = lambda x, y: x + y\n",
    "result = add(5, 3) \n",
    "print(result)"
   ]
  },
  {
   "cell_type": "markdown",
   "id": "4892d166-dec7-4cf4-a5c4-52aaf430443d",
   "metadata": {},
   "source": [
    "#### **nonlocal** keyword is used to work with variables inside nested functions"
   ]
  },
  {
   "cell_type": "code",
   "execution_count": 54,
   "id": "36d9e54b-9642-4a85-8889-a090f8884fcb",
   "metadata": {},
   "outputs": [
    {
     "name": "stdout",
     "output_type": "stream",
     "text": [
      "20\n"
     ]
    }
   ],
   "source": [
    "def out():\n",
    "    x = 10\n",
    "\n",
    "    def inn():\n",
    "        nonlocal x\n",
    "        x = 20\n",
    "\n",
    "    inn()\n",
    "    print(x)\n",
    "\n",
    "out()"
   ]
  },
  {
   "cell_type": "markdown",
   "id": "28fdd686-6515-4772-a25a-4eff1771ede6",
   "metadata": {},
   "source": [
    "#### **pass** keyword is used as a placeholder for future code"
   ]
  },
  {
   "cell_type": "code",
   "execution_count": 55,
   "id": "3851290a-58a9-44a1-a835-8191a2c06302",
   "metadata": {},
   "outputs": [],
   "source": [
    "a = 33\n",
    "b = 200\n",
    "\n",
    "if b > a:\n",
    "  pass"
   ]
  },
  {
   "cell_type": "markdown",
   "id": "49fd6f46-7e01-4dd2-b0dd-7e7041718872",
   "metadata": {},
   "source": [
    "#### **raise** keyword is used to raise exceptions or errors"
   ]
  },
  {
   "cell_type": "code",
   "execution_count": 56,
   "id": "f33fb0c3-9708-4376-a71a-9a47a0dfc4e4",
   "metadata": {},
   "outputs": [
    {
     "ename": "ValueError",
     "evalue": "Sorry, no numbers below zero",
     "output_type": "error",
     "traceback": [
      "\u001b[1;31m---------------------------------------------------------------------------\u001b[0m",
      "\u001b[1;31mValueError\u001b[0m                                Traceback (most recent call last)",
      "Cell \u001b[1;32mIn[56], line 3\u001b[0m\n\u001b[0;32m      1\u001b[0m x \u001b[38;5;241m=\u001b[39m \u001b[38;5;241m-\u001b[39m\u001b[38;5;241m1\u001b[39m\n\u001b[0;32m      2\u001b[0m \u001b[38;5;28;01mif\u001b[39;00m x \u001b[38;5;241m<\u001b[39m \u001b[38;5;241m0\u001b[39m:\n\u001b[1;32m----> 3\u001b[0m     \u001b[38;5;28;01mraise\u001b[39;00m \u001b[38;5;167;01mValueError\u001b[39;00m(\u001b[38;5;124m\"\u001b[39m\u001b[38;5;124mSorry, no numbers below zero\u001b[39m\u001b[38;5;124m\"\u001b[39m) \n",
      "\u001b[1;31mValueError\u001b[0m: Sorry, no numbers below zero"
     ]
    }
   ],
   "source": [
    "x = -1\n",
    "if x < 0:\n",
    "    raise ValueError(\"Sorry, no numbers below zero\") "
   ]
  },
  {
   "cell_type": "markdown",
   "id": "b10cf7fb-9086-4082-9ca3-9cbb0162419c",
   "metadata": {},
   "source": [
    "#### **return** keyword is used to exit a function and return a value back to the caller"
   ]
  },
  {
   "cell_type": "code",
   "execution_count": 57,
   "id": "7c5ab42d-60f9-46e6-9fed-5151db073c6e",
   "metadata": {},
   "outputs": [
    {
     "name": "stdout",
     "output_type": "stream",
     "text": [
      "5\n"
     ]
    }
   ],
   "source": [
    "def add(a, b):\n",
    "  return a + b\n",
    "\n",
    "result = add(2, 3)\n",
    "print(result)"
   ]
  },
  {
   "cell_type": "markdown",
   "id": "6a0bf59d-140e-400e-bcca-3669555b70b4",
   "metadata": {},
   "source": [
    "#### **while** keyword is used to create a loop that executes a block of code as long as a specified condition is true"
   ]
  },
  {
   "cell_type": "code",
   "execution_count": 58,
   "id": "74e517d1-d8c0-4d09-a704-ec7c41aa571f",
   "metadata": {},
   "outputs": [
    {
     "name": "stdout",
     "output_type": "stream",
     "text": [
      "0 1 2 3 4 "
     ]
    }
   ],
   "source": [
    "count = 0\n",
    "\n",
    "while count < 5:\n",
    "    print(count, end = \" \")\n",
    "    count += 1"
   ]
  },
  {
   "cell_type": "markdown",
   "id": "ab10463f-01b5-4d2a-ad7b-3037cecfdc57",
   "metadata": {},
   "source": [
    "#### **with** keyword is used to simplify the management of resources"
   ]
  },
  {
   "cell_type": "code",
   "execution_count": 59,
   "id": "0c0c59a1-c53c-4343-b9d5-30e94c17e510",
   "metadata": {},
   "outputs": [],
   "source": [
    "with open('file_path', 'w') as file:\n",
    "    file.write('hello world !')"
   ]
  },
  {
   "cell_type": "markdown",
   "id": "8e778215-7096-4c6d-95ba-6d331269c760",
   "metadata": {},
   "source": [
    "#### **yield** keyword is used to create generator functions"
   ]
  },
  {
   "cell_type": "code",
   "execution_count": 60,
   "id": "a7cb309e-02b8-494a-adc2-de69f6de433e",
   "metadata": {},
   "outputs": [
    {
     "name": "stdout",
     "output_type": "stream",
     "text": [
      "<class 'generator'>\n",
      "Hello\n",
      "World\n"
     ]
    }
   ],
   "source": [
    "def fun_generator():\n",
    "    yield \"Hello\"\n",
    "    yield \"World\"\n",
    "\n",
    "\n",
    "obj = fun_generator()\n",
    "\n",
    "print(type(obj))\n",
    "\n",
    "print(next(obj))\n",
    "print(next(obj))"
   ]
  }
 ],
 "metadata": {
  "kernelspec": {
   "display_name": "Python 3 (ipykernel)",
   "language": "python",
   "name": "python3"
  },
  "language_info": {
   "codemirror_mode": {
    "name": "ipython",
    "version": 3
   },
   "file_extension": ".py",
   "mimetype": "text/x-python",
   "name": "python",
   "nbconvert_exporter": "python",
   "pygments_lexer": "ipython3",
   "version": "3.12.2"
  }
 },
 "nbformat": 4,
 "nbformat_minor": 5
}
