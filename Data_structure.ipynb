{
 "cells": [
  {
   "cell_type": "markdown",
   "id": "5bfde5d8-0efa-4d0f-92e2-0c9e3603ada2",
   "metadata": {},
   "source": [
    "# Data types in python"
   ]
  },
  {
   "cell_type": "markdown",
   "id": "ca836f35-0350-4be2-b556-eed181676485",
   "metadata": {},
   "source": [
    "##### List<br>\n",
    "##### Tuple<br>\n",
    "##### Set<br>\n",
    "##### Dictionaries"
   ]
  },
  {
   "cell_type": "markdown",
   "id": "acb1c430-3477-4d55-94fe-157a7a56715f",
   "metadata": {},
   "source": [
    "### List<br>\n",
    "Lists are used to store multiple items in a single variable."
   ]
  },
  {
   "cell_type": "code",
   "execution_count": 1,
   "id": "cb38283b-b12b-48c3-8997-8619cc63a27f",
   "metadata": {},
   "outputs": [
    {
     "data": {
      "text/plain": [
       "[4, 7, 8, 9]"
      ]
     },
     "execution_count": 1,
     "metadata": {},
     "output_type": "execute_result"
    }
   ],
   "source": [
    "mylist = [4,7,8,9]\n",
    "mylist"
   ]
  },
  {
   "cell_type": "markdown",
   "id": "76f219f4-c45e-4ce8-808b-46eabfe76432",
   "metadata": {},
   "source": [
    "#### Acess the element by index"
   ]
  },
  {
   "cell_type": "code",
   "execution_count": 2,
   "id": "f1c551e5-57a5-423b-8786-05074465d58e",
   "metadata": {},
   "outputs": [
    {
     "data": {
      "text/plain": [
       "8"
      ]
     },
     "execution_count": 2,
     "metadata": {},
     "output_type": "execute_result"
    }
   ],
   "source": [
    "mylist = [4,7,8,9]\n",
    "mylist[2]"
   ]
  },
  {
   "cell_type": "markdown",
   "id": "ad18aac2-6316-45f2-bde4-8759d486b904",
   "metadata": {},
   "source": [
    "#### Changing the element by index"
   ]
  },
  {
   "cell_type": "code",
   "execution_count": 3,
   "id": "d5c873af-cad3-484a-9845-97380dea78af",
   "metadata": {},
   "outputs": [
    {
     "data": {
      "text/plain": [
       "[4, 7, 1, 9]"
      ]
     },
     "execution_count": 3,
     "metadata": {},
     "output_type": "execute_result"
    }
   ],
   "source": [
    "mylist = [4,7,8,9]\n",
    "mylist[2] = 1\n",
    "mylist"
   ]
  },
  {
   "cell_type": "markdown",
   "id": "ce3119c5-2f43-48bf-8f02-a5cc3dc03174",
   "metadata": {},
   "source": [
    "#### We can use loops to visit elements of list"
   ]
  },
  {
   "cell_type": "code",
   "execution_count": 4,
   "id": "1162e640-0f96-46f0-9415-ca129b34d09c",
   "metadata": {},
   "outputs": [
    {
     "name": "stdout",
     "output_type": "stream",
     "text": [
      "4 7 8 9 "
     ]
    }
   ],
   "source": [
    "mylist = [4,7,8,9]\n",
    "for x in mylist:\n",
    "    print (x , end=\" \")"
   ]
  },
  {
   "cell_type": "markdown",
   "id": "0a021e07-5ab9-45ae-b351-03eb29f52daf",
   "metadata": {},
   "source": [
    "#### We can get the values without loop"
   ]
  },
  {
   "cell_type": "code",
   "execution_count": 5,
   "id": "ed532bf3-67fc-4c52-8d0a-f3ae5b41fe68",
   "metadata": {},
   "outputs": [
    {
     "name": "stdout",
     "output_type": "stream",
     "text": [
      "4 7 8 9\n"
     ]
    }
   ],
   "source": [
    "mylist = [4,7,8,9]\n",
    "print(*mylist)"
   ]
  },
  {
   "cell_type": "markdown",
   "id": "5ecd0f21-0355-46a4-a515-3a8a31d4f9f7",
   "metadata": {},
   "source": [
    "#### List with different data types"
   ]
  },
  {
   "cell_type": "code",
   "execution_count": 6,
   "id": "32e14535-d273-4908-b039-a01c308660b5",
   "metadata": {},
   "outputs": [
    {
     "name": "stdout",
     "output_type": "stream",
     "text": [
      "Hello 3.14 True\n"
     ]
    }
   ],
   "source": [
    "mylist = [\"Hello\", 3.14, True]\n",
    "print(*mylist)"
   ]
  },
  {
   "cell_type": "markdown",
   "id": "64f85cd5-e66a-4577-9448-ace625fffe96",
   "metadata": {},
   "source": [
    "#### List with list"
   ]
  },
  {
   "cell_type": "code",
   "execution_count": 7,
   "id": "059dbb67-2fbe-4ee0-b418-633869d6eadb",
   "metadata": {},
   "outputs": [
    {
     "name": "stdout",
     "output_type": "stream",
     "text": [
      "[3, 4, 5] [6, 7, 8] [9, 10, 11]\n"
     ]
    }
   ],
   "source": [
    "mylist = [[3,4,5], [6,7,8], [9,10,11]]\n",
    "print(*mylist)"
   ]
  },
  {
   "cell_type": "markdown",
   "id": "fdb2c793-31b0-4f6c-847d-5b466cdd46f8",
   "metadata": {},
   "source": [
    "### Tuple<br>\n",
    "Collection of objects separated by commas"
   ]
  },
  {
   "cell_type": "code",
   "execution_count": 8,
   "id": "d81929cc-42aa-4779-a45e-d735c34abf58",
   "metadata": {},
   "outputs": [
    {
     "data": {
      "text/plain": [
       "(2, 3, 4)"
      ]
     },
     "execution_count": 8,
     "metadata": {},
     "output_type": "execute_result"
    }
   ],
   "source": [
    "mytuple = (2, 3, 4)\n",
    "mytuple"
   ]
  },
  {
   "cell_type": "markdown",
   "id": "bee37266-1655-4acd-b765-47fb9eeedf8c",
   "metadata": {},
   "source": [
    "#### We can acress the tuple elements"
   ]
  },
  {
   "cell_type": "code",
   "execution_count": 9,
   "id": "94ade58d-ab86-4fea-bee8-bda5b908b364",
   "metadata": {},
   "outputs": [
    {
     "data": {
      "text/plain": [
       "2"
      ]
     },
     "execution_count": 9,
     "metadata": {},
     "output_type": "execute_result"
    }
   ],
   "source": [
    "mytuple = (2, 3, 4)\n",
    "mytuple[0]"
   ]
  },
  {
   "cell_type": "markdown",
   "id": "335eadb9-b675-4a87-9b95-3d8cfa95709c",
   "metadata": {},
   "source": [
    "#### Tuples are immutable"
   ]
  },
  {
   "cell_type": "code",
   "execution_count": 10,
   "id": "c0ee2f94-793e-4154-9cbd-bfc8c77f9aa9",
   "metadata": {},
   "outputs": [
    {
     "ename": "TypeError",
     "evalue": "'tuple' object does not support item assignment",
     "output_type": "error",
     "traceback": [
      "\u001b[1;31m---------------------------------------------------------------------------\u001b[0m",
      "\u001b[1;31mTypeError\u001b[0m                                 Traceback (most recent call last)",
      "Cell \u001b[1;32mIn[10], line 2\u001b[0m\n\u001b[0;32m      1\u001b[0m mytuple \u001b[38;5;241m=\u001b[39m (\u001b[38;5;241m2\u001b[39m, \u001b[38;5;241m3\u001b[39m, \u001b[38;5;241m4\u001b[39m)\n\u001b[1;32m----> 2\u001b[0m \u001b[43mmytuple\u001b[49m\u001b[43m[\u001b[49m\u001b[38;5;241;43m1\u001b[39;49m\u001b[43m]\u001b[49m \u001b[38;5;241m=\u001b[39m \u001b[38;5;241m7\u001b[39m\n\u001b[0;32m      3\u001b[0m mytuple\n",
      "\u001b[1;31mTypeError\u001b[0m: 'tuple' object does not support item assignment"
     ]
    }
   ],
   "source": [
    "mytuple = (2, 3, 4)\n",
    "mytuple[1] = 7\n",
    "mytuple"
   ]
  },
  {
   "cell_type": "markdown",
   "id": "23169f1c-2fcd-4b0e-bef9-4921023fd4ea",
   "metadata": {},
   "source": [
    "#### We can get the values without loop"
   ]
  },
  {
   "cell_type": "code",
   "execution_count": null,
   "id": "e50e7b8b-9052-47de-9bb3-d158f06d0b34",
   "metadata": {},
   "outputs": [],
   "source": [
    "for x in mytuple:\n",
    "    print (x , end=\" \")"
   ]
  },
  {
   "cell_type": "markdown",
   "id": "c8906051-1f4d-4055-8629-0ec3f70e66a2",
   "metadata": {},
   "source": [
    "#### We can get the values without loop"
   ]
  },
  {
   "cell_type": "code",
   "execution_count": null,
   "id": "b62d1517-2402-4c9b-8b4b-1cebfe6b4ac1",
   "metadata": {},
   "outputs": [],
   "source": [
    "print(*mytuple)"
   ]
  },
  {
   "cell_type": "markdown",
   "id": "c4c4b91c-31f6-44e1-92c9-30d5bd7752c2",
   "metadata": {},
   "source": [
    "#### Tuple of list"
   ]
  },
  {
   "cell_type": "code",
   "execution_count": null,
   "id": "310c5b6a-e41a-414d-8cb6-bcf8982d71dc",
   "metadata": {},
   "outputs": [],
   "source": [
    "mytuple = ([2, 4, 6], [3, 6, 9], [1, 3, 5])\n",
    "mytuple"
   ]
  },
  {
   "cell_type": "markdown",
   "id": "6c652ae9-67e0-4e75-b069-246d42ab6636",
   "metadata": {},
   "source": [
    "#### Tuple of tuple "
   ]
  },
  {
   "cell_type": "code",
   "execution_count": null,
   "id": "f63f73e5-c66f-4d93-8ada-dcd3a2d2e6a6",
   "metadata": {},
   "outputs": [],
   "source": [
    "mytuple = ((2, 4, 6), (3, 6, 9), (1, 3, 5))\n",
    "mytuple"
   ]
  },
  {
   "cell_type": "markdown",
   "id": "5f306a82-cd72-4fd3-b5b0-32dc6c3cd801",
   "metadata": {},
   "source": [
    "#### Tuple of different data types"
   ]
  },
  {
   "cell_type": "code",
   "execution_count": null,
   "id": "f817dfbe-e551-4085-b873-0b05c0a04e2f",
   "metadata": {},
   "outputs": [],
   "source": [
    "mytuple = (\"Hello World\", 3.14, True)\n",
    "mytuple"
   ]
  },
  {
   "cell_type": "markdown",
   "id": "21c75f9e-097d-4af6-8494-dac2ada6c20a",
   "metadata": {},
   "source": [
    "### SET<br>\n",
    "Sets are used to store multiple items in a single variable"
   ]
  },
  {
   "cell_type": "code",
   "execution_count": null,
   "id": "84f39045-0bfb-4bf7-ac70-27894c4b0b3f",
   "metadata": {},
   "outputs": [],
   "source": [
    "myset = {\"car\",\"bike\", \"bus\", \"truck\",\"bike\"}\n",
    "myset"
   ]
  },
  {
   "cell_type": "markdown",
   "id": "f54a7488-4e70-4af5-a6d6-ffe82b6e5cc2",
   "metadata": {},
   "source": [
    "#### False and 0 , True and 1 have the are the same in set"
   ]
  },
  {
   "cell_type": "code",
   "execution_count": null,
   "id": "7e744d1d-9de7-4754-8e5e-2c706064d2c1",
   "metadata": {},
   "outputs": [],
   "source": [
    "myset = {\"car\",\"bike\", \"bus\", \"truck\",\"bike\", True, 1}\n",
    "myset"
   ]
  },
  {
   "cell_type": "markdown",
   "id": "adb84b00-3cce-4e01-b3da-2cd1ad886a36",
   "metadata": {},
   "source": [
    "#### We can't acess the values directly"
   ]
  },
  {
   "cell_type": "code",
   "execution_count": null,
   "id": "285bb5c0-6388-4983-98c7-ce9222e81e82",
   "metadata": {},
   "outputs": [],
   "source": [
    "print(myset[2])"
   ]
  },
  {
   "cell_type": "markdown",
   "id": "7179f373-c6e7-4a6d-a321-91e4a886524b",
   "metadata": {},
   "source": [
    "#### To acess the code we need to keep the values of set in list"
   ]
  },
  {
   "cell_type": "code",
   "execution_count": null,
   "id": "5a632d10-9b1e-4696-a261-c810b0573c31",
   "metadata": {},
   "outputs": [],
   "source": [
    "mylist = list(myset)\n",
    "print(mylist[2])"
   ]
  },
  {
   "cell_type": "markdown",
   "id": "6c84e35d-8332-4d8b-a847-686f39e6af51",
   "metadata": {},
   "source": [
    "#### We can get the values without loop"
   ]
  },
  {
   "cell_type": "code",
   "execution_count": null,
   "id": "74c3c4fe-7c84-49bc-ac7a-d449748c7fd3",
   "metadata": {},
   "outputs": [],
   "source": [
    "print(*myset)"
   ]
  },
  {
   "cell_type": "markdown",
   "id": "5e84a6d0-9fcd-441a-8922-53c77e2bdccc",
   "metadata": {},
   "source": [
    "#### We can get the values without loop"
   ]
  },
  {
   "cell_type": "code",
   "execution_count": null,
   "id": "924838ce-61ab-4655-895f-ef74d3690584",
   "metadata": {},
   "outputs": [],
   "source": [
    "for x in myset:\n",
    "    print(x, end=\" \")"
   ]
  },
  {
   "cell_type": "markdown",
   "id": "d269ec3b-92e6-4bdb-b41a-c4ae57125a1d",
   "metadata": {},
   "source": [
    "#### The element of set cannot be list/tuple"
   ]
  },
  {
   "cell_type": "code",
   "execution_count": null,
   "id": "320ac0f4-104f-464f-a638-8e8511f1d266",
   "metadata": {},
   "outputs": [],
   "source": [
    "myset = {[1, 2, 3],[4, 5, 6],[7, 8, 9]}\n",
    "myset"
   ]
  },
  {
   "cell_type": "markdown",
   "id": "f31f9043-77da-4144-bc38-4260b6211bcd",
   "metadata": {},
   "source": [
    "### Dictionaries<br>\n",
    "Dictionaries are used to store data values in key:value pairs"
   ]
  },
  {
   "cell_type": "code",
   "execution_count": null,
   "id": "4ce563f7-81a6-4c42-aa37-e9e1e03b91d4",
   "metadata": {},
   "outputs": [],
   "source": [
    "mydict = {\n",
    "    \"Name\"    : \"Aadarsh\",\n",
    "    \"Age\"     : \"19\",\n",
    "    \"Subject\" : \"Python\"\n",
    "}\n",
    "mydict"
   ]
  },
  {
   "cell_type": "markdown",
   "id": "42f0efcd-803e-450c-9f2c-f73a608f2a7c",
   "metadata": {},
   "source": [
    "#### Get the value by key"
   ]
  },
  {
   "cell_type": "code",
   "execution_count": null,
   "id": "a81e11a2-0d20-4966-979e-1ecfa7af3f53",
   "metadata": {},
   "outputs": [],
   "source": [
    "print(mydict[\"Age\"])"
   ]
  },
  {
   "cell_type": "markdown",
   "id": "3d4974af-67a9-46c3-be71-6f20832efe86",
   "metadata": {},
   "source": [
    "#### If the value by don't match"
   ]
  },
  {
   "cell_type": "code",
   "execution_count": null,
   "id": "3849c8e7-9d41-47cb-846b-f38c36fbcaad",
   "metadata": {},
   "outputs": [],
   "source": [
    "print(mydict[\"School\"])"
   ]
  },
  {
   "cell_type": "markdown",
   "id": "1e32a52b-a554-4ad3-8ed5-1386dcfc5931",
   "metadata": {},
   "source": [
    "#### We can add new key value pair to dictonary"
   ]
  },
  {
   "cell_type": "code",
   "execution_count": null,
   "id": "1b7d4fce-7e9f-43d5-b58f-2245800a9f78",
   "metadata": {},
   "outputs": [],
   "source": [
    "mydict[\"School\"] = \"SEAS\"\n",
    "mydict"
   ]
  },
  {
   "cell_type": "markdown",
   "id": "57855737-b74c-4624-a17c-0f01e623d329",
   "metadata": {},
   "source": [
    "#### Printing the dictonary with loop"
   ]
  },
  {
   "cell_type": "code",
   "execution_count": null,
   "id": "9fdde4c0-3b12-4e7f-ae9b-815273ab2707",
   "metadata": {},
   "outputs": [],
   "source": [
    "for x in mydict:\n",
    "    print(x, \" : \",mydict[x], end = \"\\n\")"
   ]
  },
  {
   "cell_type": "markdown",
   "id": "d8cab191-68bd-4899-a6a7-13c4e2d012c8",
   "metadata": {},
   "source": [
    "#### Printing the keys of dictonary without loop"
   ]
  },
  {
   "cell_type": "code",
   "execution_count": null,
   "id": "c0004529-ee36-4eec-91dc-dcdb29c15d29",
   "metadata": {},
   "outputs": [],
   "source": [
    "print(*mydict)"
   ]
  },
  {
   "cell_type": "markdown",
   "id": "ad7bf532-62c2-4a37-aa2d-36bb47abb472",
   "metadata": {},
   "source": [
    "#### List as value of dictonary"
   ]
  },
  {
   "cell_type": "code",
   "execution_count": null,
   "id": "2b339bfd-cbe8-477c-9219-47a6914aef1f",
   "metadata": {},
   "outputs": [],
   "source": [
    "mydict = {\n",
    "    \"Name\"      : \"Aadarsh\",\n",
    "    \"Age\"       : \"19\",\n",
    "    \"Subject\"   : \"Python\",\n",
    "    \"Languages\" : [\"Odia\", \"English\", \"Hindi\"]\n",
    "}\n",
    "mydict"
   ]
  },
  {
   "cell_type": "markdown",
   "id": "75733ba8-0ec6-4156-96e0-3028a50d2056",
   "metadata": {},
   "source": [
    "#### Dictonary is mutable"
   ]
  },
  {
   "cell_type": "code",
   "execution_count": null,
   "id": "90cb2dba-48b5-4088-9076-27e3464aab19",
   "metadata": {},
   "outputs": [],
   "source": [
    "mydict[\"Name\"] = \"Aadarsh Senapati\"\n",
    "mydict"
   ]
  }
 ],
 "metadata": {
  "kernelspec": {
   "display_name": "Python 3 (ipykernel)",
   "language": "python",
   "name": "python3"
  },
  "language_info": {
   "codemirror_mode": {
    "name": "ipython",
    "version": 3
   },
   "file_extension": ".py",
   "mimetype": "text/x-python",
   "name": "python",
   "nbconvert_exporter": "python",
   "pygments_lexer": "ipython3",
   "version": "3.12.2"
  }
 },
 "nbformat": 4,
 "nbformat_minor": 5
}
